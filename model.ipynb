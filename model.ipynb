{
  "cells": [
    {
      "cell_type": "markdown",
      "metadata": {
        "id": "KzG8rriuOij6"
      },
      "source": [
        "## Objective\n",
        "The objective of this project is to develop a CNN deep learning model capable of accurately classifying images into different categories.\n",
        "\n",
        "This report tracks the process of finetuning the hyperparameters in order to find the most optimal parameters that produces the most accurate results."
      ]
    },
    {
      "cell_type": "markdown",
      "metadata": {
        "id": "WOu-sJgoC86p"
      },
      "source": [
        "## Background\n",
        "For the purpose of this project, the fashion MNIST dataset will be used to train the model. This dataset consists of 60,000 training images and 10,000 testing images. These images are of various items of fashion, which belong to one of ten categories; t-shirt/top, trouser, pullover, dress, coat, sandal, shirt, sneaker, bag, and ankle boot.\n",
        "\n",
        "As the project requirements state that I can only use the Dense and Dropout layers, this will restrict the variety of models that I can come up with."
      ]
    },
    {
      "cell_type": "markdown",
      "metadata": {
        "id": "B4_Spa-0Ql8Y"
      },
      "source": [
        "## Load the dataset"
      ]
    },
    {
      "cell_type": "code",
      "execution_count": null,
      "metadata": {
        "id": "PhOPgX4hQbUf"
      },
      "outputs": [],
      "source": [
        "from tensorflow import keras\n",
        "\n",
        "(X_train, y_train), (X_test, y_test) = keras.datasets.fashion_mnist.load_data()"
      ]
    },
    {
      "cell_type": "markdown",
      "metadata": {
        "id": "JLi-S_lyBYRR"
      },
      "source": [
        "## Data Exploration"
      ]
    },
    {
      "cell_type": "code",
      "execution_count": null,
      "metadata": {
        "colab": {
          "base_uri": "https://localhost:8080/"
        },
        "id": "rSBT0Dsc7gyx",
        "outputId": "b9dd247c-7855-4c15-d85f-0de120a6a8bb"
      },
      "outputs": [
        {
          "data": {
            "text/plain": [
              "(60000, 28, 28)"
            ]
          },
          "execution_count": 2,
          "metadata": {},
          "output_type": "execute_result"
        }
      ],
      "source": [
        "X_train.shape"
      ]
    },
    {
      "cell_type": "code",
      "execution_count": null,
      "metadata": {
        "colab": {
          "base_uri": "https://localhost:8080/"
        },
        "id": "gc--aJm37lUy",
        "outputId": "d6892749-3a0f-4c7e-c237-9738a00b9559"
      },
      "outputs": [
        {
          "data": {
            "text/plain": [
              "(10000, 28, 28)"
            ]
          },
          "execution_count": 3,
          "metadata": {},
          "output_type": "execute_result"
        }
      ],
      "source": [
        "X_test.shape"
      ]
    },
    {
      "cell_type": "code",
      "execution_count": null,
      "metadata": {
        "colab": {
          "base_uri": "https://localhost:8080/"
        },
        "id": "NAZ0V-FN5hbA",
        "outputId": "8994e0a2-75e6-48b0-c4b6-264ed5188834"
      },
      "outputs": [
        {
          "data": {
            "text/plain": [
              "dtype('uint8')"
            ]
          },
          "execution_count": 4,
          "metadata": {},
          "output_type": "execute_result"
        }
      ],
      "source": [
        "X_train.dtype"
      ]
    },
    {
      "cell_type": "markdown",
      "metadata": {
        "id": "2uZ1v7hi3ZdY"
      },
      "source": [
        "The shapes of the training and test dataset shows that the training dataset consists of 60,000 images and the test dataset consists of 10,000 images. Each image is a matrix of 28 by 28 integers.\n",
        "The datatype of the images is 8 bit unsigned integers."
      ]
    },
    {
      "cell_type": "markdown",
      "metadata": {
        "id": "8Geb6dPVBr01"
      },
      "source": [
        "## Establishing the baseline\n",
        "The minimum requirement for the model is to perform better than the naive baseline.\n",
        "\n",
        "As the dataset has 10 categories, the naive baseline accuracy would be 0.1."
      ]
    },
    {
      "cell_type": "markdown",
      "metadata": {
        "id": "Bb1JANx9afcb"
      },
      "source": [
        "## Data preprocessing"
      ]
    },
    {
      "cell_type": "code",
      "execution_count": null,
      "metadata": {
        "id": "SSV6bXQQQbJF"
      },
      "outputs": [],
      "source": [
        "# reshape and scale the data\n",
        "# convert data type to floats\n",
        "X_train = X_train.reshape((60000, 28 * 28))\n",
        "X_train = X_train.astype('float32') / 255\n",
        "\n",
        "X_test = X_test.reshape((10000, 28 * 28))\n",
        "X_test = X_test.astype('float32') / 255"
      ]
    },
    {
      "cell_type": "markdown",
      "metadata": {
        "id": "RGsjZCn05N3p"
      },
      "source": [
        "The dataset is reshaped and scaled so that it fits the target shape, as well as converting the data type to float."
      ]
    },
    {
      "cell_type": "code",
      "execution_count": null,
      "metadata": {
        "id": "HplTRpE9QbGf"
      },
      "outputs": [],
      "source": [
        "# encode labels\n",
        "from keras.utils import to_categorical\n",
        "\n",
        "y_train = to_categorical(y_train)\n",
        "y_test = to_categorical(y_test)"
      ]
    },
    {
      "cell_type": "markdown",
      "metadata": {
        "id": "zO0BYOJXaLgY"
      },
      "source": [
        "# Base model\n",
        "The base model consists of the minimum number of layers."
      ]
    },
    {
      "cell_type": "code",
      "execution_count": null,
      "metadata": {
        "id": "Hz9HqicEQbNv"
      },
      "outputs": [],
      "source": [
        "from keras import models\n",
        "from keras import layers\n",
        "\n",
        "base_model = models.Sequential()\n",
        "base_model.add(layers.Dense(512, activation='relu', input_shape=(28 * 28,)))\n",
        "base_model.add(layers.Dense(10, activation='softmax'))"
      ]
    },
    {
      "cell_type": "code",
      "execution_count": null,
      "metadata": {
        "colab": {
          "base_uri": "https://localhost:8080/"
        },
        "id": "B9ubqPe-bMQd",
        "outputId": "11bb537d-a101-4a7b-d67f-4f890583ac13"
      },
      "outputs": [
        {
          "name": "stdout",
          "output_type": "stream",
          "text": [
            "Model: \"sequential\"\n",
            "_________________________________________________________________\n",
            " Layer (type)                Output Shape              Param #   \n",
            "=================================================================\n",
            " dense (Dense)               (None, 512)               401920    \n",
            "                                                                 \n",
            " dense_1 (Dense)             (None, 10)                5130      \n",
            "                                                                 \n",
            "=================================================================\n",
            "Total params: 407050 (1.55 MB)\n",
            "Trainable params: 407050 (1.55 MB)\n",
            "Non-trainable params: 0 (0.00 Byte)\n",
            "_________________________________________________________________\n"
          ]
        }
      ],
      "source": [
        "base_model.summary()"
      ]
    },
    {
      "cell_type": "markdown",
      "metadata": {
        "id": "fW90EpphaUYz"
      },
      "source": [
        "## Compilation\n",
        "To compile the model, the optimizer used is rmsprop, the loss function is categorical entropy, and the metric used to measure the performance of the model is accuracy, as the models will be analysed on the basis of accuracy."
      ]
    },
    {
      "cell_type": "code",
      "execution_count": null,
      "metadata": {
        "id": "4IKqQInaQbLe"
      },
      "outputs": [],
      "source": [
        "base_model.compile(optimizer='rmsprop',\n",
        "                loss='categorical_crossentropy',\n",
        "                metrics=['accuracy'])"
      ]
    },
    {
      "cell_type": "markdown",
      "metadata": {
        "id": "sVP5b1Uka0Zz"
      },
      "source": [
        "## Model Training"
      ]
    },
    {
      "cell_type": "code",
      "execution_count": null,
      "metadata": {
        "colab": {
          "base_uri": "https://localhost:8080/"
        },
        "id": "9gH5WupeapOD",
        "outputId": "b07e1cc7-19c2-4582-88a9-a09854f29678"
      },
      "outputs": [
        {
          "name": "stdout",
          "output_type": "stream",
          "text": [
            "Epoch 1/5\n",
            "469/469 [==============================] - 9s 17ms/step - loss: 0.5629 - accuracy: 0.8031\n",
            "Epoch 2/5\n",
            "469/469 [==============================] - 8s 17ms/step - loss: 0.3879 - accuracy: 0.8579\n",
            "Epoch 3/5\n",
            "469/469 [==============================] - 7s 16ms/step - loss: 0.3400 - accuracy: 0.8752\n",
            "Epoch 4/5\n",
            "469/469 [==============================] - 4s 9ms/step - loss: 0.3128 - accuracy: 0.8840\n",
            "Epoch 5/5\n",
            "469/469 [==============================] - 4s 9ms/step - loss: 0.2952 - accuracy: 0.8901\n"
          ]
        }
      ],
      "source": [
        "history=base_model.fit(X_train, y_train, epochs=5, batch_size=128)"
      ]
    },
    {
      "cell_type": "code",
      "execution_count": null,
      "metadata": {
        "id": "ltbtcNlLNrjH"
      },
      "outputs": [],
      "source": [
        "import matplotlib.pyplot as plt"
      ]
    },
    {
      "cell_type": "code",
      "execution_count": null,
      "metadata": {
        "colab": {
          "base_uri": "https://localhost:8080/",
          "height": 434
        },
        "id": "5z08YiLOOgoM",
        "outputId": "7edfc027-1924-4c79-83f1-42567d458585"
      },
      "outputs": [
        {
          "data": {
            "image/png": "[encoded data removed]",
            "text/plain": [
              "<Figure size 1000x600 with 1 Axes>"
            ]
          },
          "metadata": {},
          "output_type": "display_data"
        }
      ],
      "source": [
        "plt.figure(figsize=(10, 6))\n",
        "plt.plot(history.history['accuracy'], label='Training Accuracy')\n",
        "plt.plot(history.history['loss'], label='Training Loss')\n",
        "plt.title('Base Model Training Accuracy and Loss')\n",
        "plt.xlabel('Epochs')\n",
        "plt.legend()\n",
        "plt.grid(True)\n",
        "plt.show()"
      ]
    },
    {
      "cell_type": "markdown",
      "metadata": {
        "id": "D8gL0Web9Im_"
      },
      "source": [
        "The accuracy of the model gradually increases with each epoch, with the accuracy of the last epoch being 0.89 (89%).\n",
        "\n",
        "The decrease in loss is much more significant, starting with 0.563, and ending with 0.295."
      ]
    },
    {
      "cell_type": "markdown",
      "metadata": {
        "id": "HqeWLqY8a9Ag"
      },
      "source": [
        "## Model Validation"
      ]
    },
    {
      "cell_type": "code",
      "execution_count": null,
      "metadata": {
        "colab": {
          "base_uri": "https://localhost:8080/"
        },
        "id": "xHN-BDjuapKk",
        "outputId": "97a56b1f-c891-4df1-c271-551b992496d5"
      },
      "outputs": [
        {
          "name": "stdout",
          "output_type": "stream",
          "text": [
            "313/313 [==============================] - 1s 3ms/step - loss: 0.4181 - accuracy: 0.8424\n"
          ]
        },
        {
          "data": {
            "text/plain": [
              "[0.4181031286716461, 0.8424000144004822]"
            ]
          },
          "execution_count": 13,
          "metadata": {},
          "output_type": "execute_result"
        }
      ],
      "source": [
        "base_model.evaluate(X_test, y_test)"
      ]
    },
    {
      "cell_type": "markdown",
      "metadata": {
        "id": "na4nnqF49XnU"
      },
      "source": [
        "When testing the accuracy of the model on the test dataset, the accuracy drops from 0.89 to 0.87.\n",
        "The loss also increases significantly from 0.29 at the last epoch to 0.36.\n",
        "\n",
        "The drop in accuracy from the model training to the model testing is due to overfitting, which happens as machine learning models perform worse when new data is used."
      ]
    },
    {
      "cell_type": "markdown",
      "metadata": {
        "id": "imTKSH0Mw_4F"
      },
      "source": [
        "# Second model\n",
        "Add a new layer to the base model to increase accuracy."
      ]
    },
    {
      "cell_type": "code",
      "execution_count": null,
      "metadata": {
        "id": "mu2qp8DNaKGv"
      },
      "outputs": [],
      "source": [
        "second_model = models.Sequential()\n",
        "second_model.add(layers.Dense(512, activation='relu', input_shape=(28 * 28,)))\n",
        "second_model.add(layers.Dense(10, activation='relu'))\n",
        "second_model.add(layers.Dense(10, activation='softmax'))"
      ]
    },
    {
      "cell_type": "code",
      "execution_count": null,
      "metadata": {
        "colab": {
          "base_uri": "https://localhost:8080/"
        },
        "id": "7GLGPcTVaKEU",
        "outputId": "42e03450-b033-45f1-b455-28e7ecf61f97"
      },
      "outputs": [
        {
          "name": "stdout",
          "output_type": "stream",
          "text": [
            "Model: \"sequential_1\"\n",
            "_________________________________________________________________\n",
            " Layer (type)                Output Shape              Param #   \n",
            "=================================================================\n",
            " dense_2 (Dense)             (None, 512)               401920    \n",
            "                                                                 \n",
            " dense_3 (Dense)             (None, 10)                5130      \n",
            "                                                                 \n",
            " dense_4 (Dense)             (None, 10)                110       \n",
            "                                                                 \n",
            "=================================================================\n",
            "Total params: 407160 (1.55 MB)\n",
            "Trainable params: 407160 (1.55 MB)\n",
            "Non-trainable params: 0 (0.00 Byte)\n",
            "_________________________________________________________________\n"
          ]
        }
      ],
      "source": [
        "second_model.summary()"
      ]
    },
    {
      "cell_type": "markdown",
      "metadata": {
        "id": "P16DzjZH2CYS"
      },
      "source": [
        "## Compilation"
      ]
    },
    {
      "cell_type": "code",
      "execution_count": null,
      "metadata": {
        "id": "vM9tk52daKB6"
      },
      "outputs": [],
      "source": [
        "second_model.compile(optimizer='rmsprop',\n",
        "                loss='categorical_crossentropy',\n",
        "                metrics=['accuracy'])"
      ]
    },
    {
      "cell_type": "markdown",
      "metadata": {
        "id": "ox0xT6DW2GQc"
      },
      "source": [
        "## Model Training"
      ]
    },
    {
      "cell_type": "code",
      "execution_count": null,
      "metadata": {
        "colab": {
          "base_uri": "https://localhost:8080/"
        },
        "id": "XYOtFpExaJ_o",
        "outputId": "3d7d4412-b956-4c09-b581-25624b382bc3"
      },
      "outputs": [
        {
          "name": "stdout",
          "output_type": "stream",
          "text": [
            "Epoch 1/5\n",
            "469/469 [==============================] - 5s 10ms/step - loss: 0.7987 - accuracy: 0.7127\n",
            "Epoch 2/5\n",
            "469/469 [==============================] - 4s 9ms/step - loss: 0.4374 - accuracy: 0.8451\n",
            "Epoch 3/5\n",
            "469/469 [==============================] - 5s 10ms/step - loss: 0.3782 - accuracy: 0.8635\n",
            "Epoch 4/5\n",
            "469/469 [==============================] - 4s 8ms/step - loss: 0.3439 - accuracy: 0.8758\n",
            "Epoch 5/5\n",
            "469/469 [==============================] - 4s 9ms/step - loss: 0.3189 - accuracy: 0.8844\n"
          ]
        }
      ],
      "source": [
        "history=second_model.fit(X_train, y_train, epochs=5, batch_size=128)"
      ]
    },
    {
      "cell_type": "code",
      "execution_count": null,
      "metadata": {
        "colab": {
          "base_uri": "https://localhost:8080/",
          "height": 584
        },
        "id": "sibmARdcOcxM",
        "outputId": "7b981f1f-6425-441e-b1a2-a8958612451e"
      },
      "outputs": [
        {
          "data": {
            "image/png": "[encoded data removed]",
            "text/plain": [
              "<Figure size 1000x600 with 1 Axes>"
            ]
          },
          "metadata": {},
          "output_type": "display_data"
        }
      ],
      "source": [
        "plt.figure(figsize=(10, 6))\n",
        "plt.plot(history.history['accuracy'], label='Training Accuracy')\n",
        "plt.plot(history.history['loss'], label='Training Loss')\n",
        "plt.title('Second Model Training Accuracy and Loss')\n",
        "plt.xlabel('Epochs')\n",
        "plt.legend()\n",
        "plt.grid(True)\n",
        "plt.show()"
      ]
    },
    {
      "cell_type": "markdown",
      "metadata": {
        "id": "7HfNFuo-0T-0"
      },
      "source": [
        "While the second model and the base model follow similar trajectories, the first epoch of the second model has a higher loss and lower accuracy compared to the first epoch of the base model. This continues for each epoch, resulting in the second model having a slightly worse score than the base model."
      ]
    },
    {
      "cell_type": "markdown",
      "metadata": {
        "id": "H0yvL_Dx2LGx"
      },
      "source": [
        "## Model Validation"
      ]
    },
    {
      "cell_type": "code",
      "execution_count": null,
      "metadata": {
        "colab": {
          "base_uri": "https://localhost:8080/"
        },
        "id": "NiPg8ro7aJ-A",
        "outputId": "8f728bfd-4018-4570-95f1-4071aa83d9e1"
      },
      "outputs": [
        {
          "name": "stdout",
          "output_type": "stream",
          "text": [
            "313/313 [==============================] - 1s 4ms/step - loss: 0.3829 - accuracy: 0.8638\n"
          ]
        },
        {
          "data": {
            "text/plain": [
              "[0.3829007148742676, 0.8637999892234802]"
            ]
          },
          "execution_count": 19,
          "metadata": {},
          "output_type": "execute_result"
        }
      ],
      "source": [
        "second_model.evaluate(X_test, y_test)"
      ]
    },
    {
      "cell_type": "markdown",
      "metadata": {
        "id": "x_EhWIaxyqXG"
      },
      "source": [
        "While the first model had a loss of about 0.38 and an accuracy around 0.86, this model has a loss of 0.34 and an accuracy of 0.88.\n",
        "\n",
        "Even though the model training for the second model showed slightly worse results than the base model, the results of the model validation exceeds that of the base model."
      ]
    },
    {
      "cell_type": "markdown",
      "metadata": {
        "id": "yRIdnvgTgsHr"
      },
      "source": [
        "# Third model\n",
        "As adding a new layer improved the model validation score, another layer will be added to attempt to further improve the accuracy."
      ]
    },
    {
      "cell_type": "code",
      "execution_count": null,
      "metadata": {
        "id": "510jZPCygxOl"
      },
      "outputs": [],
      "source": [
        "third_model = models.Sequential()\n",
        "third_model.add(layers.Dense(512, activation='relu', input_shape=(28 * 28,)))\n",
        "third_model.add(layers.Dense(10, activation='relu'))\n",
        "third_model.add(layers.Dense(10, activation='relu'))\n",
        "third_model.add(layers.Dense(10, activation='softmax'))"
      ]
    },
    {
      "cell_type": "code",
      "execution_count": null,
      "metadata": {
        "colab": {
          "base_uri": "https://localhost:8080/"
        },
        "id": "KvRox8xahMx-",
        "outputId": "87c52bbb-2efe-4b30-a242-168575193e02"
      },
      "outputs": [
        {
          "name": "stdout",
          "output_type": "stream",
          "text": [
            "Model: \"sequential_2\"\n",
            "_________________________________________________________________\n",
            " Layer (type)                Output Shape              Param #   \n",
            "=================================================================\n",
            " dense_5 (Dense)             (None, 512)               401920    \n",
            "                                                                 \n",
            " dense_6 (Dense)             (None, 10)                5130      \n",
            "                                                                 \n",
            " dense_7 (Dense)             (None, 10)                110       \n",
            "                                                                 \n",
            " dense_8 (Dense)             (None, 10)                110       \n",
            "                                                                 \n",
            "=================================================================\n",
            "Total params: 407270 (1.55 MB)\n",
            "Trainable params: 407270 (1.55 MB)\n",
            "Non-trainable params: 0 (0.00 Byte)\n",
            "_________________________________________________________________\n"
          ]
        }
      ],
      "source": [
        "third_model.summary()"
      ]
    },
    {
      "cell_type": "markdown",
      "metadata": {
        "id": "UewihQfWhPwK"
      },
      "source": [
        "## Compilation"
      ]
    },
    {
      "cell_type": "code",
      "execution_count": null,
      "metadata": {
        "id": "LV5i4-sQhRh3"
      },
      "outputs": [],
      "source": [
        "third_model.compile(optimizer='rmsprop',\n",
        "                loss='categorical_crossentropy',\n",
        "                metrics=['accuracy'])"
      ]
    },
    {
      "cell_type": "markdown",
      "metadata": {
        "id": "yEsGZHwNhT8L"
      },
      "source": [
        "## Model Training"
      ]
    },
    {
      "cell_type": "code",
      "execution_count": null,
      "metadata": {
        "colab": {
          "base_uri": "https://localhost:8080/"
        },
        "id": "cl7a_C6ChWEr",
        "outputId": "473569bd-b7f0-4c3d-ea44-1c23c3dbbf8f"
      },
      "outputs": [
        {
          "name": "stdout",
          "output_type": "stream",
          "text": [
            "Epoch 1/5\n",
            "469/469 [==============================] - 5s 10ms/step - loss: 0.8681 - accuracy: 0.6848\n",
            "Epoch 2/5\n",
            "469/469 [==============================] - 4s 8ms/step - loss: 0.4986 - accuracy: 0.8246\n",
            "Epoch 3/5\n",
            "469/469 [==============================] - 4s 8ms/step - loss: 0.4250 - accuracy: 0.8493\n",
            "Epoch 4/5\n",
            "469/469 [==============================] - 5s 11ms/step - loss: 0.3777 - accuracy: 0.8647\n",
            "Epoch 5/5\n",
            "469/469 [==============================] - 4s 9ms/step - loss: 0.3510 - accuracy: 0.8723\n"
          ]
        }
      ],
      "source": [
        "history=third_model.fit(X_train, y_train, epochs=5, batch_size=128)"
      ]
    },
    {
      "cell_type": "code",
      "execution_count": null,
      "metadata": {
        "colab": {
          "base_uri": "https://localhost:8080/",
          "height": 434
        },
        "id": "hr7I5BmfhYn0",
        "outputId": "ff33c816-fbd5-4de5-ca8f-0a784ed3ec0a"
      },
      "outputs": [
        {
          "data": {
            "image/png": "[encoded data removed]",
            "text/plain": [
              "<Figure size 1000x600 with 1 Axes>"
            ]
          },
          "metadata": {},
          "output_type": "display_data"
        }
      ],
      "source": [
        "plt.figure(figsize=(10, 6))\n",
        "plt.plot(history.history['accuracy'], label='Training Accuracy')\n",
        "plt.plot(history.history['loss'], label='Training Loss')\n",
        "plt.title('Third Model Training Accuracy and Loss')\n",
        "plt.xlabel('Epochs')\n",
        "plt.legend()\n",
        "plt.grid(True)\n",
        "plt.show()"
      ]
    },
    {
      "cell_type": "markdown",
      "metadata": {
        "id": "YmFrc-Tj1nVc"
      },
      "source": [
        "The first epoch shows a much higher loss of 0.868 compared to the first two models, although it quickly decreases to 0.351 at the fifth epoch, which is still higher than the losses of the previous models.\n",
        "\n",
        "The accuracy of the first epoch is also lower than the previous models, at 0.685, and increases to 0.872 at the fifth epoch, which is still lower than the previous models."
      ]
    },
    {
      "cell_type": "markdown",
      "metadata": {
        "id": "bYR6yeRvhdhW"
      },
      "source": [
        "## Model validation"
      ]
    },
    {
      "cell_type": "code",
      "execution_count": null,
      "metadata": {
        "colab": {
          "base_uri": "https://localhost:8080/"
        },
        "id": "P3l9qG7Whc8R",
        "outputId": "d8ef76f6-f14e-4c7e-f566-99f2f5d30888"
      },
      "outputs": [
        {
          "name": "stdout",
          "output_type": "stream",
          "text": [
            "313/313 [==============================] - 1s 3ms/step - loss: 0.4178 - accuracy: 0.8558\n"
          ]
        },
        {
          "data": {
            "text/plain": [
              "[0.41776660084724426, 0.8557999730110168]"
            ]
          },
          "execution_count": 25,
          "metadata": {},
          "output_type": "execute_result"
        }
      ],
      "source": [
        "third_model.evaluate(X_test, y_test)"
      ]
    },
    {
      "cell_type": "markdown",
      "metadata": {
        "id": "RBDOwAhrh3t8"
      },
      "source": [
        "Compared to the previous model, this model validation shows an increase in loss, from 0.349 to 0.379, although it is still less than the base model's loss of 0.383.\n",
        "\n",
        "The model also has a decrease in accuracy, from 0.879 to 0.863, which is still higher than the base model's accuracy of 0.860.\n",
        "\n",
        "Overall, this model validation shows that the third model scored worse than the second model, but still scored better than the base model. This may be due to the increasing number of layers resulting in overfitting."
      ]
    },
    {
      "cell_type": "markdown",
      "metadata": {
        "id": "KxUfOFIwIksN"
      },
      "source": [
        "# Fourth model\n",
        "It is possible that the cause of the decrease in accuracy of the third model is due to overfitting; therefore, Dropout layers will be added to decrease the number of nodes to see if that can remedy the effect of adding another layer."
      ]
    },
    {
      "cell_type": "code",
      "execution_count": null,
      "metadata": {
        "id": "Ab5jfu5fIzQW"
      },
      "outputs": [],
      "source": [
        "fourth_model = models.Sequential()\n",
        "fourth_model.add(layers.Dense(512, activation='relu', input_shape=(28 * 28,)))\n",
        "fourth_model.add(layers.Dropout(0.1))\n",
        "fourth_model.add(layers.Dense(10, activation='relu'))\n",
        "fourth_model.add(layers.Dense(10, activation='relu'))\n",
        "fourth_model.add(layers.Dense(10, activation='softmax'))"
      ]
    },
    {
      "cell_type": "code",
      "execution_count": null,
      "metadata": {
        "colab": {
          "base_uri": "https://localhost:8080/"
        },
        "id": "f2dtvMi7I32b",
        "outputId": "3fe0599a-6c3f-4ef9-9667-00e02ee7c971"
      },
      "outputs": [
        {
          "name": "stdout",
          "output_type": "stream",
          "text": [
            "Model: \"sequential_3\"\n",
            "_________________________________________________________________\n",
            " Layer (type)                Output Shape              Param #   \n",
            "=================================================================\n",
            " dense_9 (Dense)             (None, 512)               401920    \n",
            "                                                                 \n",
            " dropout (Dropout)           (None, 512)               0         \n",
            "                                                                 \n",
            " dense_10 (Dense)            (None, 10)                5130      \n",
            "                                                                 \n",
            " dense_11 (Dense)            (None, 10)                110       \n",
            "                                                                 \n",
            " dense_12 (Dense)            (None, 10)                110       \n",
            "                                                                 \n",
            "=================================================================\n",
            "Total params: 407270 (1.55 MB)\n",
            "Trainable params: 407270 (1.55 MB)\n",
            "Non-trainable params: 0 (0.00 Byte)\n",
            "_________________________________________________________________\n"
          ]
        }
      ],
      "source": [
        "fourth_model.summary()"
      ]
    },
    {
      "cell_type": "markdown",
      "metadata": {
        "id": "zTq8GtwQI4g4"
      },
      "source": [
        "## Compilation"
      ]
    },
    {
      "cell_type": "code",
      "execution_count": null,
      "metadata": {
        "id": "DjWzuo3TI46_"
      },
      "outputs": [],
      "source": [
        "fourth_model.compile(optimizer='rmsprop',\n",
        "                loss='categorical_crossentropy',\n",
        "                metrics=['accuracy'])"
      ]
    },
    {
      "cell_type": "markdown",
      "metadata": {
        "id": "i3HJiAJqJACU"
      },
      "source": [
        "## Model Training"
      ]
    },
    {
      "cell_type": "code",
      "execution_count": null,
      "metadata": {
        "colab": {
          "base_uri": "https://localhost:8080/"
        },
        "id": "uFHuxUbfJDSf",
        "outputId": "8a19cd90-81f1-402e-fa8b-2495269b1950"
      },
      "outputs": [
        {
          "name": "stdout",
          "output_type": "stream",
          "text": [
            "Epoch 1/5\n",
            "469/469 [==============================] - 6s 11ms/step - loss: 0.9729 - accuracy: 0.6722\n",
            "Epoch 2/5\n",
            "469/469 [==============================] - 4s 9ms/step - loss: 0.4881 - accuracy: 0.8227\n",
            "Epoch 3/5\n",
            "469/469 [==============================] - 4s 9ms/step - loss: 0.4017 - accuracy: 0.8541\n",
            "Epoch 4/5\n",
            "469/469 [==============================] - 5s 11ms/step - loss: 0.3664 - accuracy: 0.8673\n",
            "Epoch 5/5\n",
            "469/469 [==============================] - 4s 9ms/step - loss: 0.3407 - accuracy: 0.8752\n"
          ]
        }
      ],
      "source": [
        "history=fourth_model.fit(X_train, y_train, epochs=5, batch_size=128)"
      ]
    },
    {
      "cell_type": "code",
      "execution_count": null,
      "metadata": {
        "colab": {
          "base_uri": "https://localhost:8080/",
          "height": 434
        },
        "id": "U6NTmyavNrfe",
        "outputId": "1f076cec-5c92-4818-8634-a2a6132126d2"
      },
      "outputs": [
        {
          "data": {
            "image/png": "[encoded data removed]",
            "text/plain": [
              "<Figure size 1000x600 with 1 Axes>"
            ]
          },
          "metadata": {},
          "output_type": "display_data"
        }
      ],
      "source": [
        "plt.figure(figsize=(10, 6))\n",
        "plt.plot(history.history['accuracy'], label='Training Accuracy')\n",
        "plt.plot(history.history['loss'], label='Training Loss')\n",
        "plt.title('Fourth Model Training Accuracy and Loss')\n",
        "plt.xlabel('Epochs')\n",
        "plt.legend()\n",
        "plt.grid(True)\n",
        "plt.show()"
      ]
    },
    {
      "cell_type": "markdown",
      "metadata": {
        "id": "ErgZH__Z2rje"
      },
      "source": [
        "The loss at the first epoch is much higher than before, at 0.973, but quickly drops to 0.341 at the fifth epoch.\n",
        "\n",
        "The accuracy at the last epoch is 0.875, which is slightly higher than the accuracy of the previous model, 0.872, but is still lower than the accuracy of the first two models."
      ]
    },
    {
      "cell_type": "markdown",
      "metadata": {
        "id": "l9vl87V0JEDa"
      },
      "source": [
        "## Model Validation"
      ]
    },
    {
      "cell_type": "code",
      "execution_count": null,
      "metadata": {
        "colab": {
          "base_uri": "https://localhost:8080/"
        },
        "id": "T6HMzZMaJAhq",
        "outputId": "e2c1a85e-13b0-4c48-aef5-d6090928b355"
      },
      "outputs": [
        {
          "name": "stdout",
          "output_type": "stream",
          "text": [
            "313/313 [==============================] - 1s 4ms/step - loss: 0.3823 - accuracy: 0.8664\n"
          ]
        },
        {
          "data": {
            "text/plain": [
              "[0.3823387920856476, 0.8664000034332275]"
            ]
          },
          "execution_count": 31,
          "metadata": {},
          "output_type": "execute_result"
        }
      ],
      "source": [
        "fourth_model.evaluate(X_test, y_test)"
      ]
    },
    {
      "cell_type": "markdown",
      "metadata": {
        "id": "kj-11A_5tjSh"
      },
      "source": [
        "The results of the model validation are comparable to the previous ones.\n",
        "The loss increased from 0.379 in the previous model to 0.382, while the accuracy is slightly better than the previous model, going from 0.862 to 0.866.\n",
        "\n",
        "It appears that adding the Dropout layer resulted in an increase in loss, and while the accuracy increased, it was not a significant amount that makes up for the increase in loss.\n",
        "\n"
      ]
    },
    {
      "cell_type": "markdown",
      "metadata": {
        "id": "JBMP_VUtC2eS"
      },
      "source": [
        "# Evaluation\n",
        "I successfully managed created four deep learning models, each with different combinations of Dense and Dropout layers and activations. All four of the model validations showed that all the models received accuracy scores higher than the naive baseline, which is 0.1.\n",
        "\n",
        "An area I could have improved in is creating more models with differing parameters, or experimented with different activations for each models. I mainly focused on the number of Dense layers used."
      ]
    },
    {
      "cell_type": "code",
      "execution_count": null,
      "metadata": {
        "id": "5XwGv7xbNj3T"
      },
      "outputs": [],
      "source": [
        "from google.colab import drive\n",
        "drive.mount('/content/drive')"
      ]
    },
    {
      "cell_type": "markdown",
      "metadata": {
        "id": "Nrm5TK5-67pY"
      },
      "source": [
        "# Conclusion\n",
        "\n",
        "After comparing the accuracy and loss scores of each model validation, it is clear that model most suited for accurately classifying the fashion MNIST dataset is the second model.\n",
        "\n",
        "It consists of two layers, the first being a Dense layer with ReLU activation, and a second layer is a Dense with softmax activation.\n",
        "\n",
        "The model validation showed that it has the highest accuracy of 0.864 (86.4%).\n",
        "\n",
        "Although the main measure being analysed is the accuracy, the second model also received the second lowest loss of 0.383 (38.3%), the model with the lowest loss being the fourth model with a loss of 0.382 (38.2%), which is a negligible difference."
      ]
    },
    {
      "cell_type": "markdown",
      "metadata": {
        "id": "o-7UGaSQDSMZ"
      },
      "source": [
        "# References\n",
        "Code for the base model is from DLWP chapter 2."
      ]
    }
  ],
  "metadata": {
    "colab": {
      "provenance": []
    },
    "kernelspec": {
      "display_name": "Python 3",
      "name": "python3"
    },
    "language_info": {
      "name": "python"
    }
  },
  "nbformat": 4,
  "nbformat_minor": 0
}
